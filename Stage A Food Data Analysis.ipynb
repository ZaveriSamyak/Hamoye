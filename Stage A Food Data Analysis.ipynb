{
 "cells": [
  {
   "cell_type": "markdown",
   "id": "b9afefee",
   "metadata": {},
   "source": [
    "### Importing Libraries"
   ]
  },
  {
   "cell_type": "code",
   "execution_count": 1,
   "id": "90ab485e",
   "metadata": {},
   "outputs": [],
   "source": [
    "import numpy as np\n",
    "import pandas as pd\n",
    "import matplotlib.pyplot as plt"
   ]
  },
  {
   "cell_type": "markdown",
   "id": "c1ae80d6",
   "metadata": {},
   "source": [
    "### Loading the dataset"
   ]
  },
  {
   "cell_type": "code",
   "execution_count": 2,
   "id": "17e5d882",
   "metadata": {},
   "outputs": [
    {
     "data": {
      "text/html": [
       "<div>\n",
       "<style scoped>\n",
       "    .dataframe tbody tr th:only-of-type {\n",
       "        vertical-align: middle;\n",
       "    }\n",
       "\n",
       "    .dataframe tbody tr th {\n",
       "        vertical-align: top;\n",
       "    }\n",
       "\n",
       "    .dataframe thead th {\n",
       "        text-align: right;\n",
       "    }\n",
       "</style>\n",
       "<table border=\"1\" class=\"dataframe\">\n",
       "  <thead>\n",
       "    <tr style=\"text-align: right;\">\n",
       "      <th></th>\n",
       "      <th>Area Code</th>\n",
       "      <th>Area</th>\n",
       "      <th>Item Code</th>\n",
       "      <th>Item</th>\n",
       "      <th>Element Code</th>\n",
       "      <th>Element</th>\n",
       "      <th>Unit</th>\n",
       "      <th>Y2014</th>\n",
       "      <th>Y2015</th>\n",
       "      <th>Y2016</th>\n",
       "      <th>Y2017</th>\n",
       "      <th>Y2018</th>\n",
       "    </tr>\n",
       "  </thead>\n",
       "  <tbody>\n",
       "    <tr>\n",
       "      <th>0</th>\n",
       "      <td>4</td>\n",
       "      <td>Algeria</td>\n",
       "      <td>2501</td>\n",
       "      <td>Population</td>\n",
       "      <td>511</td>\n",
       "      <td>Total Population - Both sexes</td>\n",
       "      <td>1000 persons</td>\n",
       "      <td>38924.00</td>\n",
       "      <td>39728.00</td>\n",
       "      <td>40551.00</td>\n",
       "      <td>41389.00</td>\n",
       "      <td>42228.00</td>\n",
       "    </tr>\n",
       "    <tr>\n",
       "      <th>1</th>\n",
       "      <td>4</td>\n",
       "      <td>Algeria</td>\n",
       "      <td>2501</td>\n",
       "      <td>Population</td>\n",
       "      <td>5301</td>\n",
       "      <td>Domestic supply quantity</td>\n",
       "      <td>1000 tonnes</td>\n",
       "      <td>0.00</td>\n",
       "      <td>0.00</td>\n",
       "      <td>0.00</td>\n",
       "      <td>0.00</td>\n",
       "      <td>0.00</td>\n",
       "    </tr>\n",
       "    <tr>\n",
       "      <th>2</th>\n",
       "      <td>4</td>\n",
       "      <td>Algeria</td>\n",
       "      <td>2901</td>\n",
       "      <td>Grand Total</td>\n",
       "      <td>664</td>\n",
       "      <td>Food supply (kcal/capita/day)</td>\n",
       "      <td>kcal/capita/day</td>\n",
       "      <td>3377.00</td>\n",
       "      <td>3379.00</td>\n",
       "      <td>3372.00</td>\n",
       "      <td>3341.00</td>\n",
       "      <td>3322.00</td>\n",
       "    </tr>\n",
       "    <tr>\n",
       "      <th>3</th>\n",
       "      <td>4</td>\n",
       "      <td>Algeria</td>\n",
       "      <td>2901</td>\n",
       "      <td>Grand Total</td>\n",
       "      <td>674</td>\n",
       "      <td>Protein supply quantity (g/capita/day)</td>\n",
       "      <td>g/capita/day</td>\n",
       "      <td>94.90</td>\n",
       "      <td>94.35</td>\n",
       "      <td>94.72</td>\n",
       "      <td>92.82</td>\n",
       "      <td>91.83</td>\n",
       "    </tr>\n",
       "    <tr>\n",
       "      <th>4</th>\n",
       "      <td>4</td>\n",
       "      <td>Algeria</td>\n",
       "      <td>2901</td>\n",
       "      <td>Grand Total</td>\n",
       "      <td>684</td>\n",
       "      <td>Fat supply quantity (g/capita/day)</td>\n",
       "      <td>g/capita/day</td>\n",
       "      <td>80.06</td>\n",
       "      <td>79.36</td>\n",
       "      <td>77.40</td>\n",
       "      <td>80.19</td>\n",
       "      <td>77.28</td>\n",
       "    </tr>\n",
       "    <tr>\n",
       "      <th>5</th>\n",
       "      <td>4</td>\n",
       "      <td>Algeria</td>\n",
       "      <td>2903</td>\n",
       "      <td>Vegetal Products</td>\n",
       "      <td>664</td>\n",
       "      <td>Food supply (kcal/capita/day)</td>\n",
       "      <td>kcal/capita/day</td>\n",
       "      <td>2932.00</td>\n",
       "      <td>2958.00</td>\n",
       "      <td>2941.00</td>\n",
       "      <td>2921.00</td>\n",
       "      <td>2932.00</td>\n",
       "    </tr>\n",
       "  </tbody>\n",
       "</table>\n",
       "</div>"
      ],
      "text/plain": [
       "   Area Code     Area  Item Code              Item  Element Code  \\\n",
       "0          4  Algeria       2501        Population           511   \n",
       "1          4  Algeria       2501        Population          5301   \n",
       "2          4  Algeria       2901       Grand Total           664   \n",
       "3          4  Algeria       2901       Grand Total           674   \n",
       "4          4  Algeria       2901       Grand Total           684   \n",
       "5          4  Algeria       2903  Vegetal Products           664   \n",
       "\n",
       "                                  Element             Unit     Y2014  \\\n",
       "0           Total Population - Both sexes     1000 persons  38924.00   \n",
       "1                Domestic supply quantity      1000 tonnes      0.00   \n",
       "2           Food supply (kcal/capita/day)  kcal/capita/day   3377.00   \n",
       "3  Protein supply quantity (g/capita/day)     g/capita/day     94.90   \n",
       "4      Fat supply quantity (g/capita/day)     g/capita/day     80.06   \n",
       "5           Food supply (kcal/capita/day)  kcal/capita/day   2932.00   \n",
       "\n",
       "      Y2015     Y2016     Y2017     Y2018  \n",
       "0  39728.00  40551.00  41389.00  42228.00  \n",
       "1      0.00      0.00      0.00      0.00  \n",
       "2   3379.00   3372.00   3341.00   3322.00  \n",
       "3     94.35     94.72     92.82     91.83  \n",
       "4     79.36     77.40     80.19     77.28  \n",
       "5   2958.00   2941.00   2921.00   2932.00  "
      ]
     },
     "execution_count": 2,
     "metadata": {},
     "output_type": "execute_result"
    }
   ],
   "source": [
    "df = pd.read_csv('FoodBalanceSheets_E_Africa_NOFLAG.csv')\n",
    "df.head(6)"
   ]
  },
  {
   "cell_type": "markdown",
   "id": "1d721037",
   "metadata": {},
   "source": [
    "# Quiz Answers"
   ]
  },
  {
   "cell_type": "markdown",
   "id": "a56953be",
   "metadata": {},
   "source": [
    "### Sum of Animal Fats"
   ]
  },
  {
   "cell_type": "code",
   "execution_count": 3,
   "id": "45acdaf0",
   "metadata": {},
   "outputs": [
    {
     "data": {
      "text/plain": [
       "Y2014    209460.54\n",
       "Name: Animal fats, dtype: float64"
      ]
     },
     "execution_count": 3,
     "metadata": {},
     "output_type": "execute_result"
    }
   ],
   "source": [
    "AFat = df.groupby('Item')['Y2014'].sum()\n",
    "AFat = pd.DataFrame(AFat)\n",
    "AFat.iloc[3]"
   ]
  },
  {
   "cell_type": "code",
   "execution_count": 4,
   "id": "05274b65",
   "metadata": {},
   "outputs": [
    {
     "data": {
      "text/plain": [
       "Y2017    269617.53\n",
       "Name: Animal fats, dtype: float64"
      ]
     },
     "execution_count": 4,
     "metadata": {},
     "output_type": "execute_result"
    }
   ],
   "source": [
    "BFat = df.groupby('Item')['Y2017'].sum()\n",
    "BFat = pd.DataFrame(BFat)\n",
    "BFat.iloc[3]"
   ]
  },
  {
   "cell_type": "markdown",
   "id": "abb57366",
   "metadata": {},
   "source": [
    "### Mean & Standard Deviation"
   ]
  },
  {
   "cell_type": "code",
   "execution_count": 5,
   "id": "29a11d37",
   "metadata": {},
   "outputs": [
    {
     "data": {
      "text/plain": [
       "135.236"
      ]
     },
     "execution_count": 5,
     "metadata": {},
     "output_type": "execute_result"
    }
   ],
   "source": [
    "round(df.Y2015.mean(),3) #135.236"
   ]
  },
  {
   "cell_type": "code",
   "execution_count": 6,
   "id": "c81e525b",
   "metadata": {},
   "outputs": [
    {
     "data": {
      "text/plain": [
       "1603.39"
      ]
     },
     "execution_count": 6,
     "metadata": {},
     "output_type": "execute_result"
    }
   ],
   "source": [
    "round(np.std(df.Y2015), 3) #1603.390"
   ]
  },
  {
   "cell_type": "markdown",
   "id": "c2922ffc",
   "metadata": {},
   "source": [
    "### Missing data for Y2016"
   ]
  },
  {
   "cell_type": "code",
   "execution_count": 7,
   "id": "c35aaf82",
   "metadata": {},
   "outputs": [
    {
     "data": {
      "text/plain": [
       "1535"
      ]
     },
     "execution_count": 7,
     "metadata": {},
     "output_type": "execute_result"
    }
   ],
   "source": [
    "df.Y2016.isnull().sum() #1535"
   ]
  },
  {
   "cell_type": "code",
   "execution_count": 8,
   "id": "568c6fbe",
   "metadata": {},
   "outputs": [
    {
     "data": {
      "text/plain": [
       "2.52"
      ]
     },
     "execution_count": 8,
     "metadata": {},
     "output_type": "execute_result"
    }
   ],
   "source": [
    "round((1535/60943)*100, 2)   #2.52 percent"
   ]
  },
  {
   "cell_type": "markdown",
   "id": "e11991ca",
   "metadata": {},
   "source": [
    "### Highest Correlated Year"
   ]
  },
  {
   "cell_type": "code",
   "execution_count": 9,
   "id": "9b227136",
   "metadata": {},
   "outputs": [
    {
     "data": {
      "text/plain": [
       "Element Code    1.000000\n",
       "Y2014           0.024457\n",
       "Y2015           0.023889\n",
       "Y2016           0.023444\n",
       "Y2017           0.024254\n",
       "Y2018           0.024279\n",
       "Name: Element Code, dtype: float64"
      ]
     },
     "execution_count": 9,
     "metadata": {},
     "output_type": "execute_result"
    }
   ],
   "source": [
    "A = df.iloc[:, 4:12]\n",
    "A = A.corr()\n",
    "A['Element Code']\n",
    "#Highest correlated year is 2014"
   ]
  },
  {
   "cell_type": "markdown",
   "id": "fb65cd4e",
   "metadata": {},
   "source": [
    "### Highest Imports"
   ]
  },
  {
   "cell_type": "code",
   "execution_count": 10,
   "id": "eaa121a3",
   "metadata": {},
   "outputs": [
    {
     "data": {
      "text/plain": [
       "Y2014    7965086.13\n",
       "Y2015    8032340.23\n",
       "Y2016    8112472.65\n",
       "Y2017    8375729.19\n",
       "Y2018    8554629.96\n",
       "dtype: float64"
      ]
     },
     "execution_count": 10,
     "metadata": {},
     "output_type": "execute_result"
    }
   ],
   "source": [
    "A = df.groupby('Element')[df.columns[7:12]].sum()\n",
    "A.sum()\n",
    "#2017 has the highest imports from all the options"
   ]
  },
  {
   "cell_type": "markdown",
   "id": "c5429149",
   "metadata": {},
   "source": [
    "### Sum of Production in Y2014"
   ]
  },
  {
   "cell_type": "code",
   "execution_count": 11,
   "id": "2889363e",
   "metadata": {},
   "outputs": [
    {
     "data": {
      "text/html": [
       "<div>\n",
       "<style scoped>\n",
       "    .dataframe tbody tr th:only-of-type {\n",
       "        vertical-align: middle;\n",
       "    }\n",
       "\n",
       "    .dataframe tbody tr th {\n",
       "        vertical-align: top;\n",
       "    }\n",
       "\n",
       "    .dataframe thead th {\n",
       "        text-align: right;\n",
       "    }\n",
       "</style>\n",
       "<table border=\"1\" class=\"dataframe\">\n",
       "  <thead>\n",
       "    <tr style=\"text-align: right;\">\n",
       "      <th></th>\n",
       "      <th>Y2014</th>\n",
       "    </tr>\n",
       "    <tr>\n",
       "      <th>Element</th>\n",
       "      <th></th>\n",
       "    </tr>\n",
       "  </thead>\n",
       "  <tbody>\n",
       "    <tr>\n",
       "      <th>Production</th>\n",
       "      <td>1931287.75</td>\n",
       "    </tr>\n",
       "  </tbody>\n",
       "</table>\n",
       "</div>"
      ],
      "text/plain": [
       "                 Y2014\n",
       "Element               \n",
       "Production  1931287.75"
      ]
     },
     "execution_count": 11,
     "metadata": {},
     "output_type": "execute_result"
    }
   ],
   "source": [
    "Prod = df.groupby('Element')[\"Y2014\"].sum()\n",
    "Prod = pd.DataFrame(Prod)\n",
    "Prod.iloc[[11], [0]] #1931287.75"
   ]
  },
  {
   "cell_type": "markdown",
   "id": "db0a6c6b",
   "metadata": {},
   "source": [
    "### Elements with highest sum in Y2018"
   ]
  },
  {
   "cell_type": "code",
   "execution_count": 12,
   "id": "cefb463a",
   "metadata": {},
   "outputs": [
    {
     "data": {
      "text/plain": [
       "Element\n",
       "Domestic supply quantity    2161192.1\n",
       "Name: Y2018, dtype: float64"
      ]
     },
     "execution_count": 12,
     "metadata": {},
     "output_type": "execute_result"
    }
   ],
   "source": [
    "Highest = df.groupby('Element')[\"Y2018\"].sum().sort_values(ascending=False)\n",
    "Highest.head(1) #Domestic Supply Quantity"
   ]
  },
  {
   "cell_type": "markdown",
   "id": "ca22e235",
   "metadata": {},
   "source": [
    "### Element with 3rd lowest sum in Y2018"
   ]
  },
  {
   "cell_type": "code",
   "execution_count": 13,
   "id": "a053f4cc",
   "metadata": {},
   "outputs": [
    {
     "data": {
      "text/html": [
       "<div>\n",
       "<style scoped>\n",
       "    .dataframe tbody tr th:only-of-type {\n",
       "        vertical-align: middle;\n",
       "    }\n",
       "\n",
       "    .dataframe tbody tr th {\n",
       "        vertical-align: top;\n",
       "    }\n",
       "\n",
       "    .dataframe thead th {\n",
       "        text-align: right;\n",
       "    }\n",
       "</style>\n",
       "<table border=\"1\" class=\"dataframe\">\n",
       "  <thead>\n",
       "    <tr style=\"text-align: right;\">\n",
       "      <th></th>\n",
       "      <th>Y2018</th>\n",
       "    </tr>\n",
       "    <tr>\n",
       "      <th>Element</th>\n",
       "      <th></th>\n",
       "    </tr>\n",
       "  </thead>\n",
       "  <tbody>\n",
       "    <tr>\n",
       "      <th>Seed</th>\n",
       "      <td>758</td>\n",
       "    </tr>\n",
       "  </tbody>\n",
       "</table>\n",
       "</div>"
      ],
      "text/plain": [
       "         Y2018\n",
       "Element       \n",
       "Seed       758"
      ]
     },
     "execution_count": 13,
     "metadata": {},
     "output_type": "execute_result"
    }
   ],
   "source": [
    "A = df.groupby('Element')['Y2018'].count().sort_values(ascending=True)\n",
    "Thirdlowest = pd.DataFrame(A)\n",
    "Thirdlowest.iloc[[2], [0]]\n",
    "#Element which had the 3rd lowest sum in 2018 is seed"
   ]
  },
  {
   "cell_type": "markdown",
   "id": "3aca23d3",
   "metadata": {},
   "source": [
    "### Total Import Quantity"
   ]
  },
  {
   "cell_type": "code",
   "execution_count": 14,
   "id": "985e0ff0",
   "metadata": {},
   "outputs": [
    {
     "data": {
      "text/plain": [
       "Y2018    341729.98\n",
       "Name: Algeria, dtype: float64"
      ]
     },
     "execution_count": 14,
     "metadata": {},
     "output_type": "execute_result"
    }
   ],
   "source": [
    "Imports = df.groupby('Area')[\"Y2018\"].sum()\n",
    "Imports = pd.DataFrame(Imports)\n",
    "Imports.iloc[0]"
   ]
  },
  {
   "cell_type": "markdown",
   "id": "a9736aca",
   "metadata": {},
   "source": [
    "### Unique Countries"
   ]
  },
  {
   "cell_type": "code",
   "execution_count": 15,
   "id": "dd003152",
   "metadata": {},
   "outputs": [
    {
     "data": {
      "text/plain": [
       "49"
      ]
     },
     "execution_count": 15,
     "metadata": {},
     "output_type": "execute_result"
    }
   ],
   "source": [
    "len(df.Area.unique()) #49"
   ]
  },
  {
   "cell_type": "markdown",
   "id": "7ef05b01",
   "metadata": {},
   "source": [
    "# Thanks!"
   ]
  }
 ],
 "metadata": {
  "kernelspec": {
   "display_name": "Python 3",
   "language": "python",
   "name": "python3"
  },
  "language_info": {
   "codemirror_mode": {
    "name": "ipython",
    "version": 3
   },
   "file_extension": ".py",
   "mimetype": "text/x-python",
   "name": "python",
   "nbconvert_exporter": "python",
   "pygments_lexer": "ipython3",
   "version": "3.8.8"
  }
 },
 "nbformat": 4,
 "nbformat_minor": 5
}
